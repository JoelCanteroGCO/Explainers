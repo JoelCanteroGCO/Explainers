{
  "cells": [
    {
      "cell_type": "code",
      "source": [
        "import tensorflow as tf\r\n",
        "from sklearn.datasets import load_boston\r\n",
        "boston_housing = tf.keras.datasets.boston_housing\r\n",
        "\r\n",
        "(x_train, y_train),(x_test, y_test) = boston_housing.load_data()"
      ],
      "outputs": [],
      "execution_count": 1,
      "metadata": {
        "jupyter": {
          "source_hidden": false,
          "outputs_hidden": false
        },
        "nteract": {
          "transient": {
            "deleting": false
          }
        },
        "gather": {
          "logged": 1644913715621
        }
      }
    },
    {
      "cell_type": "code",
      "source": [
        "boston = load_boston()"
      ],
      "outputs": [],
      "execution_count": 2,
      "metadata": {
        "jupyter": {
          "source_hidden": false,
          "outputs_hidden": false
        },
        "nteract": {
          "transient": {
            "deleting": false
          }
        },
        "gather": {
          "logged": 1644913726818
        }
      }
    },
    {
      "cell_type": "code",
      "source": [
        "import pandas as pd\r\n",
        "\r\n",
        "x_train = pd.DataFrame(x_train, columns=list(boston.feature_names))\r\n",
        "y_train = pd.Series(y_train)\r\n",
        "x_test = pd.DataFrame(x_test, columns=list(boston.feature_names))\r\n",
        "y_test = pd.Series(y_test)"
      ],
      "outputs": [],
      "execution_count": 4,
      "metadata": {
        "jupyter": {
          "source_hidden": false,
          "outputs_hidden": false
        },
        "nteract": {
          "transient": {
            "deleting": false
          }
        },
        "gather": {
          "logged": 1644913739106
        }
      }
    },
    {
      "cell_type": "code",
      "source": [
        "from tensorflow.keras import Model, Input\r\n",
        "from tensorflow.keras.backend import shape\r\n",
        "from tensorflow.keras.layers import Dense, concatenate\r\n",
        "\r\n",
        "def build_model():\r\n",
        "    inputs = {col : Input(name=col,shape=(1,), dtype='float32') for col in list(boston.feature_names)}\r\n",
        "    \r\n",
        "    x = concatenate([inputs[col] for col in list(boston.feature_names)])\r\n",
        "    x = Dense(20,activation='relu',name='hidden1')(x)\r\n",
        "    out = Dense(1)(x)\r\n",
        "\r\n",
        "    model = Model(inputs=inputs,outputs=out)\r\n",
        "\r\n",
        "    model.compile(optimizer='adam', \r\n",
        "                  loss='mse',\r\n",
        "                  metrics=['mae', 'mse'])\r\n",
        "    return model\r\n",
        "\r\n",
        "\r\n",
        "\r\n",
        "inp = (dict(x_train), y_train)\r\n",
        "inp_ds = tf.data.Dataset.from_tensor_slices(inp).batch(32)\r\n",
        "val = (dict(x_test), y_test)\r\n",
        "val_ds = tf.data.Dataset.from_tensor_slices(val).batch(32)\r\n",
        "\r\n",
        "model = build_model()\r\n",
        "\r\n",
        "model.fit(inp_ds, epochs=5, validation_data=val_ds)"
      ],
      "outputs": [
        {
          "output_type": "stream",
          "name": "stdout",
          "text": "Train for 13 steps, validate for 4 steps\nEpoch 1/5\n13/13 [==============================] - 1s 107ms/step - loss: 1551.6971 - mae: 34.9814 - mse: 1560.7083 - val_loss: 1156.4446 - val_mae: 30.6870 - val_mse: 1211.4019\b\b\b\b\b\b\b\b\b\b\b\b\b\b\b\b\b\b\b\b\b\b\b\b\b\b\b\b\b\b\b\b\nEpoch 2/5\n13/13 [==============================] - 0s 4ms/step - loss: 959.1615 - mae: 27.1919 - mse: 967.3128 - val_loss: 671.8089 - val_mae: 23.3102 - val_mse: 700.1531\b\b\b\b\b\b\b\b\b\b\b\b\b\b\b\b\b\b\b\b\b\b\b\b\b\b\b\b\b\b\b\b\b\b\b\b\nEpoch 3/5\n13/13 [==============================] - 0s 5ms/step - loss: 592.2898 - mae: 20.8860 - mse: 598.1719 - val_loss: 429.3327 - val_mae: 17.8446 - val_mse: 433.1288\b\b\b\b\b\b\b\b\b\b\b\b\b\b\b\b\b\b\b\b\b\b\b\b\b\b\b\b\b\b\b\b\b\b\b\b\nEpoch 4/5\n13/13 [==============================] - 0s 4ms/step - loss: 395.4277 - mae: 16.5794 - mse: 399.3449 - val_loss: 300.7395 - val_mae: 14.4639 - val_mse: 292.1638\b\b\b\b\b\b\b\b\b\b\b\b\b\b\b\b\b\b\b\b\b\b\b\b\b\b\b\b\b\b\b\b\nEpoch 5/5\n13/13 [==============================] - 0s 5ms/step - loss: 299.9066 - mae: 14.1779 - mse: 302.6371 - val_loss: 234.0486 - val_mae: 12.2518 - val_mse: 218.5767\b\b\b\b\b\b\b\b\b\b\b\b\b\b\b\b\b\b\b\b\b\b\b\b\b\b\b\b\b\b\b\b\n"
        },
        {
          "output_type": "execute_result",
          "execution_count": 6,
          "data": {
            "text/plain": "<tensorflow.python.keras.callbacks.History at 0x7f19ec3531d0>"
          },
          "metadata": {}
        }
      ],
      "execution_count": 6,
      "metadata": {
        "gather": {
          "logged": 1644913750780
        }
      }
    },
    {
      "cell_type": "code",
      "source": [
        "model.predict(list(dict(x_train).values()))"
      ],
      "outputs": [
        {
          "output_type": "execute_result",
          "execution_count": 7,
          "data": {
            "text/plain": "array([[157.51585 ],\n       [181.38756 ],\n       [339.73233 ],\n       [ 99.586006],\n       [339.40668 ],\n       [144.6726  ],\n       [344.2741  ],\n       [214.25212 ],\n       [199.73387 ],\n       [229.6666  ],\n       [339.04825 ],\n       [247.19365 ],\n       [151.51192 ],\n       [329.46335 ],\n       [ 92.84889 ],\n       [245.51001 ],\n       [342.4381  ],\n       [186.54414 ],\n       [185.06339 ],\n       [202.34619 ],\n       [238.88588 ],\n       [124.91912 ],\n       [207.51947 ],\n       [151.31535 ],\n       [103.697815],\n       [344.13373 ],\n       [160.40355 ],\n       [116.144844],\n       [160.15099 ],\n       [203.959   ],\n       [152.40332 ],\n       [338.73776 ],\n       [305.81192 ],\n       [149.12926 ],\n       [124.42384 ],\n       [139.16783 ],\n       [165.2032  ],\n       [162.04352 ],\n       [140.50412 ],\n       [208.58273 ],\n       [345.87195 ],\n       [100.254234],\n       [101.69576 ],\n       [324.10797 ],\n       [342.98022 ],\n       [158.64494 ],\n       [231.24554 ],\n       [159.97964 ],\n       [139.89058 ],\n       [343.00253 ],\n       [103.24978 ],\n       [245.90001 ],\n       [159.73462 ],\n       [149.55392 ],\n       [219.38339 ],\n       [ 83.88488 ],\n       [257.73026 ],\n       [258.0681  ],\n       [125.554855],\n       [144.38927 ],\n       [ 88.69103 ],\n       [105.44412 ],\n       [339.0052  ],\n       [202.31729 ],\n       [249.53067 ],\n       [262.8094  ],\n       [229.07784 ],\n       [340.44608 ],\n       [320.26492 ],\n       [137.93549 ],\n       [103.990005],\n       [267.2136  ],\n       [203.43382 ],\n       [155.30984 ],\n       [172.85872 ],\n       [164.3868  ],\n       [241.02367 ],\n       [230.4666  ],\n       [152.3463  ],\n       [213.99844 ],\n       [139.71921 ],\n       [132.72366 ],\n       [153.08414 ],\n       [152.80196 ],\n       [232.56746 ],\n       [101.61167 ],\n       [343.19882 ],\n       [114.580246],\n       [212.83371 ],\n       [236.13533 ],\n       [335.60446 ],\n       [114.8217  ],\n       [140.5785  ],\n       [ 89.31196 ],\n       [138.9141  ],\n       [156.50687 ],\n       [207.9558  ],\n       [113.95686 ],\n       [129.1751  ],\n       [103.41345 ],\n       [104.7362  ],\n       [161.18591 ],\n       [151.39447 ],\n       [101.26321 ],\n       [242.4242  ],\n       [163.62047 ],\n       [318.22406 ],\n       [106.400955],\n       [231.70262 ],\n       [140.22252 ],\n       [203.43698 ],\n       [219.54468 ],\n       [226.90916 ],\n       [202.6026  ],\n       [165.35942 ],\n       [102.58202 ],\n       [322.6147  ],\n       [164.39146 ],\n       [230.65915 ],\n       [174.97142 ],\n       [150.9382  ],\n       [155.16289 ],\n       [242.95921 ],\n       [126.72245 ],\n       [342.90982 ],\n       [167.95184 ],\n       [202.74666 ],\n       [201.57748 ],\n       [136.731   ],\n       [173.41246 ],\n       [103.26169 ],\n       [221.27917 ],\n       [161.9567  ],\n       [206.26682 ],\n       [190.57521 ],\n       [ 91.29634 ],\n       [344.3174  ],\n       [138.77243 ],\n       [142.91837 ],\n       [341.88998 ],\n       [111.973434],\n       [205.03441 ],\n       [342.28598 ],\n       [232.42801 ],\n       [137.50731 ],\n       [172.1475  ],\n       [143.03862 ],\n       [339.1984  ],\n       [249.92282 ],\n       [135.35661 ],\n       [235.21722 ],\n       [172.14001 ],\n       [136.2898  ],\n       [135.00972 ],\n       [128.42264 ],\n       [220.20079 ],\n       [321.2048  ],\n       [149.65483 ],\n       [274.8841  ],\n       [133.66168 ],\n       [178.07631 ],\n       [136.46649 ],\n       [160.25418 ],\n       [105.44668 ],\n       [185.93768 ],\n       [327.70374 ],\n       [ 99.687485],\n       [148.34175 ],\n       [137.94539 ],\n       [346.78482 ],\n       [143.48128 ],\n       [152.21078 ],\n       [326.19827 ],\n       [174.30838 ],\n       [154.76602 ],\n       [232.19418 ],\n       [245.10735 ],\n       [101.73568 ],\n       [200.0251  ],\n       [147.37627 ],\n       [344.23688 ],\n       [105.00412 ],\n       [162.47707 ],\n       [204.42026 ],\n       [197.75533 ],\n       [310.9528  ],\n       [226.99072 ],\n       [156.78027 ],\n       [153.36653 ],\n       [141.60638 ],\n       [165.62923 ],\n       [139.80234 ],\n       [149.37103 ],\n       [110.4313  ],\n       [102.14498 ],\n       [160.17348 ],\n       [146.30957 ],\n       [343.17725 ],\n       [112.2589  ],\n       [138.13968 ],\n       [144.34247 ],\n       [212.87798 ],\n       [154.00726 ],\n       [132.00813 ],\n       [158.28139 ],\n       [342.2531  ],\n       [238.72012 ],\n       [138.75092 ],\n       [225.87727 ],\n       [198.65717 ],\n       [ 88.98004 ],\n       [240.82924 ],\n       [214.16693 ],\n       [218.64098 ],\n       [344.18802 ],\n       [122.7009  ],\n       [133.6605  ],\n       [203.84009 ],\n       [219.78328 ],\n       [157.21431 ],\n       [339.16708 ],\n       [344.04807 ],\n       [146.2547  ],\n       [153.08147 ],\n       [335.22556 ],\n       [101.66527 ],\n       [122.55886 ],\n       [332.8249  ],\n       [220.40727 ],\n       [329.46576 ],\n       [166.34897 ],\n       [230.88379 ],\n       [134.34306 ],\n       [161.03035 ],\n       [134.35425 ],\n       [156.98578 ],\n       [176.4068  ],\n       [239.49582 ],\n       [336.80072 ],\n       [343.73022 ],\n       [215.87111 ],\n       [344.04282 ],\n       [157.57597 ],\n       [227.29933 ],\n       [158.88184 ],\n       [101.06759 ],\n       [127.26509 ],\n       [333.47562 ],\n       [344.17145 ],\n       [327.0125  ],\n       [161.1335  ],\n       [220.01997 ],\n       [343.71912 ],\n       [333.03186 ],\n       [295.17273 ],\n       [220.13445 ],\n       [156.18509 ],\n       [151.56403 ],\n       [321.2941  ],\n       [122.60633 ],\n       [106.1022  ],\n       [215.31207 ],\n       [145.78154 ],\n       [183.79077 ],\n       [133.76616 ],\n       [232.21497 ],\n       [218.06711 ],\n       [175.51189 ],\n       [124.99334 ],\n       [130.00931 ],\n       [172.24292 ],\n       [137.28807 ],\n       [109.75046 ],\n       [326.02588 ],\n       [200.34122 ],\n       [141.09682 ],\n       [138.22876 ],\n       [164.8583  ],\n       [172.83356 ],\n       [ 91.20245 ],\n       [157.49928 ],\n       [140.01611 ],\n       [343.29276 ],\n       [198.20218 ],\n       [253.51569 ],\n       [343.4336  ],\n       [343.1713  ],\n       [265.49063 ],\n       [340.79416 ],\n       [156.63972 ],\n       [337.004   ],\n       [257.89706 ],\n       [202.58763 ],\n       [134.02556 ],\n       [ 88.98955 ],\n       [137.89505 ],\n       [138.7179  ],\n       [343.1189  ],\n       [193.49556 ],\n       [301.39026 ],\n       [320.0949  ],\n       [ 92.262024],\n       [244.52478 ],\n       [ 85.585205],\n       [322.40002 ],\n       [159.593   ],\n       [174.79338 ],\n       [322.97128 ],\n       [115.89525 ],\n       [136.93718 ],\n       [163.35057 ],\n       [176.41223 ],\n       [144.06459 ],\n       [242.97095 ],\n       [161.50186 ],\n       [205.51224 ],\n       [229.98721 ],\n       [162.80649 ],\n       [131.5249  ],\n       [339.03656 ],\n       [203.64798 ],\n       [328.18454 ],\n       [180.71082 ],\n       [339.47443 ],\n       [202.84503 ],\n       [219.40794 ],\n       [154.05275 ],\n       [119.93389 ],\n       [331.18295 ],\n       [215.30899 ],\n       [115.21763 ],\n       [317.39236 ],\n       [150.72498 ],\n       [141.16391 ],\n       [329.015   ],\n       [229.40382 ],\n       [136.22572 ],\n       [105.40041 ],\n       [342.19385 ],\n       [203.61316 ],\n       [145.8792  ],\n       [324.99408 ],\n       [160.82327 ],\n       [159.55724 ],\n       [219.06087 ],\n       [218.00334 ],\n       [169.47821 ],\n       [337.083   ],\n       [162.92609 ],\n       [ 95.909134],\n       [216.04094 ],\n       [200.24059 ],\n       [175.00925 ],\n       [121.416794],\n       [338.51566 ],\n       [209.02383 ],\n       [136.64314 ],\n       [206.8611  ],\n       [333.06824 ],\n       [194.8022  ],\n       [232.6902  ],\n       [132.24855 ],\n       [154.7079  ],\n       [135.86711 ],\n       [309.8113  ],\n       [137.16231 ],\n       [144.79292 ],\n       [137.43669 ],\n       [150.2008  ],\n       [241.47745 ],\n       [164.76805 ],\n       [150.4798  ],\n       [159.60744 ],\n       [126.2811  ],\n       [140.71474 ],\n       [ 86.99961 ],\n       [132.41132 ],\n       [303.49612 ],\n       [112.96277 ],\n       [203.08218 ],\n       [150.98262 ],\n       [230.58644 ],\n       [231.9283  ],\n       [177.73285 ],\n       [179.64618 ],\n       [131.79622 ],\n       [341.46625 ],\n       [200.72668 ],\n       [132.37576 ],\n       [231.06105 ],\n       [269.42722 ],\n       [136.19304 ],\n       [137.34142 ],\n       [339.46027 ],\n       [338.5545  ],\n       [262.514   ],\n       [250.00798 ],\n       [134.38986 ],\n       [343.2206  ],\n       [108.33912 ],\n       [ 97.86406 ],\n       [152.75801 ],\n       [215.84995 ],\n       [132.46672 ]], dtype=float32)"
          },
          "metadata": {}
        }
      ],
      "execution_count": 7,
      "metadata": {
        "jupyter": {
          "source_hidden": false,
          "outputs_hidden": false
        },
        "nteract": {
          "transient": {
            "deleting": false
          }
        },
        "gather": {
          "logged": 1644913760176
        }
      }
    },
    {
      "cell_type": "code",
      "source": [
        "from interpret.ext.blackbox import TabularExplainer\r\n",
        "explainer = TabularExplainer(model, x_train, features=boston.feature_names)\r\n",
        "\r\n",
        "global_explanation = explainer.explain_global(x_test, true_labels=y_test)"
      ],
      "outputs": [
        {
          "output_type": "error",
          "ename": "ValueError",
          "evalue": "Could not find valid explainer to explain model",
          "traceback": [
            "\u001b[0;31m---------------------------------------------------------------------------\u001b[0m",
            "\u001b[0;31mAttributeError\u001b[0m                            Traceback (most recent call last)",
            "\u001b[0;32m/anaconda/envs/azureml_py36/lib/python3.6/site-packages/interpret_community/tabular_explainer.py\u001b[0m in \u001b[0;36m__init__\u001b[0;34m(self, model, initialization_examples, explain_subset, features, classes, transformations, allow_all_transformations, model_task, use_gpu, **kwargs)\u001b[0m\n\u001b[1;32m    189\u001b[0m                         \u001b[0mallow_all_transformations\u001b[0m\u001b[0;34m=\u001b[0m\u001b[0mallow_all_transformations\u001b[0m\u001b[0;34m,\u001b[0m\u001b[0;34m\u001b[0m\u001b[0;34m\u001b[0m\u001b[0m\n\u001b[0;32m--> 190\u001b[0;31m                         **kwargs)\n\u001b[0m\u001b[1;32m    191\u001b[0m                 \u001b[0mself\u001b[0m\u001b[0;34m.\u001b[0m\u001b[0m_method\u001b[0m \u001b[0;34m=\u001b[0m \u001b[0mself\u001b[0m\u001b[0;34m.\u001b[0m\u001b[0mexplainer\u001b[0m\u001b[0;34m.\u001b[0m\u001b[0m_method\u001b[0m\u001b[0;34m\u001b[0m\u001b[0;34m\u001b[0m\u001b[0m\n",
            "\u001b[0;32m/anaconda/envs/azureml_py36/lib/python3.6/site-packages/interpret_community/dataset/decorator.py\u001b[0m in \u001b[0;36minit_wrapper\u001b[0;34m(self, model, initialization_examples, *args, **kwargs)\u001b[0m\n\u001b[1;32m     41\u001b[0m     \u001b[0;32mdef\u001b[0m \u001b[0minit_wrapper\u001b[0m\u001b[0;34m(\u001b[0m\u001b[0mself\u001b[0m\u001b[0;34m,\u001b[0m \u001b[0mmodel\u001b[0m\u001b[0;34m,\u001b[0m \u001b[0minitialization_examples\u001b[0m\u001b[0;34m,\u001b[0m \u001b[0;34m*\u001b[0m\u001b[0margs\u001b[0m\u001b[0;34m,\u001b[0m \u001b[0;34m**\u001b[0m\u001b[0mkwargs\u001b[0m\u001b[0;34m)\u001b[0m\u001b[0;34m:\u001b[0m\u001b[0;34m\u001b[0m\u001b[0;34m\u001b[0m\u001b[0m\n\u001b[0;32m---> 42\u001b[0;31m         \u001b[0;32mreturn\u001b[0m \u001b[0minit_func\u001b[0m\u001b[0;34m(\u001b[0m\u001b[0mself\u001b[0m\u001b[0;34m,\u001b[0m \u001b[0mmodel\u001b[0m\u001b[0;34m,\u001b[0m \u001b[0mwrap_dataset\u001b[0m\u001b[0;34m(\u001b[0m\u001b[0minitialization_examples\u001b[0m\u001b[0;34m)\u001b[0m\u001b[0;34m,\u001b[0m \u001b[0;34m*\u001b[0m\u001b[0margs\u001b[0m\u001b[0;34m,\u001b[0m \u001b[0;34m**\u001b[0m\u001b[0mkwargs\u001b[0m\u001b[0;34m)\u001b[0m\u001b[0;34m\u001b[0m\u001b[0;34m\u001b[0m\u001b[0m\n\u001b[0m\u001b[1;32m     43\u001b[0m     \u001b[0;32mreturn\u001b[0m \u001b[0minit_wrapper\u001b[0m\u001b[0;34m\u001b[0m\u001b[0;34m\u001b[0m\u001b[0m\n",
            "\u001b[0;32m/anaconda/envs/azureml_py36/lib/python3.6/site-packages/interpret_community/common/blackbox_explainer.py\u001b[0m in \u001b[0;36minit_wrapper\u001b[0;34m(self, model, *args, **kwargs)\u001b[0m\n\u001b[1;32m    182\u001b[0m         \u001b[0mself\u001b[0m\u001b[0;34m.\u001b[0m\u001b[0moriginal_data_ref\u001b[0m \u001b[0;34m=\u001b[0m \u001b[0;34m[\u001b[0m\u001b[0;32mNone\u001b[0m\u001b[0;34m]\u001b[0m\u001b[0;34m\u001b[0m\u001b[0;34m\u001b[0m\u001b[0m\n\u001b[0;32m--> 183\u001b[0;31m         \u001b[0;32mreturn\u001b[0m \u001b[0minit_func\u001b[0m\u001b[0;34m(\u001b[0m\u001b[0mself\u001b[0m\u001b[0;34m,\u001b[0m \u001b[0mmodel\u001b[0m\u001b[0;34m,\u001b[0m \u001b[0;34m*\u001b[0m\u001b[0margs\u001b[0m\u001b[0;34m,\u001b[0m \u001b[0;34m**\u001b[0m\u001b[0mkwargs\u001b[0m\u001b[0;34m)\u001b[0m\u001b[0;34m\u001b[0m\u001b[0;34m\u001b[0m\u001b[0m\n\u001b[0m\u001b[1;32m    184\u001b[0m \u001b[0;34m\u001b[0m\u001b[0m\n",
            "\u001b[0;32m/anaconda/envs/azureml_py36/lib/python3.6/site-packages/interpret_community/common/aggregate.py\u001b[0m in \u001b[0;36minit_wrapper\u001b[0;34m(self, model, *args, **kwargs)\u001b[0m\n\u001b[1;32m     23\u001b[0m         \u001b[0mself\u001b[0m\u001b[0;34m.\u001b[0m\u001b[0msampling_policy\u001b[0m \u001b[0;34m=\u001b[0m \u001b[0;32mNone\u001b[0m\u001b[0;34m\u001b[0m\u001b[0;34m\u001b[0m\u001b[0m\n\u001b[0;32m---> 24\u001b[0;31m         \u001b[0;32mreturn\u001b[0m \u001b[0minit_func\u001b[0m\u001b[0;34m(\u001b[0m\u001b[0mself\u001b[0m\u001b[0;34m,\u001b[0m \u001b[0mmodel\u001b[0m\u001b[0;34m,\u001b[0m \u001b[0;34m*\u001b[0m\u001b[0margs\u001b[0m\u001b[0;34m,\u001b[0m \u001b[0;34m**\u001b[0m\u001b[0mkwargs\u001b[0m\u001b[0;34m)\u001b[0m\u001b[0;34m\u001b[0m\u001b[0;34m\u001b[0m\u001b[0m\n\u001b[0m\u001b[1;32m     25\u001b[0m     \u001b[0;32mreturn\u001b[0m \u001b[0minit_wrapper\u001b[0m\u001b[0;34m\u001b[0m\u001b[0;34m\u001b[0m\u001b[0m\n",
            "\u001b[0;32m/anaconda/envs/azureml_py36/lib/python3.6/site-packages/interpret_community/shap/kernel_explainer.py\u001b[0m in \u001b[0;36m__init__\u001b[0;34m(self, model, initialization_examples, is_function, explain_subset, nsamples, features, classes, nclusters, show_progress, transformations, allow_all_transformations, model_task, **kwargs)\u001b[0m\n\u001b[1;32m    200\u001b[0m         \u001b[0;31m# string-index the initialization examples\u001b[0m\u001b[0;34m\u001b[0m\u001b[0;34m\u001b[0m\u001b[0;34m\u001b[0m\u001b[0m\n\u001b[0;32m--> 201\u001b[0;31m         \u001b[0mself\u001b[0m\u001b[0;34m.\u001b[0m\u001b[0m_column_indexer\u001b[0m \u001b[0;34m=\u001b[0m \u001b[0minitialization_examples\u001b[0m\u001b[0;34m.\u001b[0m\u001b[0mstring_index\u001b[0m\u001b[0;34m(\u001b[0m\u001b[0;34m)\u001b[0m\u001b[0;34m\u001b[0m\u001b[0;34m\u001b[0m\u001b[0m\n\u001b[0m\u001b[1;32m    202\u001b[0m         \u001b[0mwrapped_model\u001b[0m\u001b[0;34m,\u001b[0m \u001b[0meval_ml_domain\u001b[0m \u001b[0;34m=\u001b[0m \u001b[0m_wrap_model\u001b[0m\u001b[0;34m(\u001b[0m\u001b[0mmodel\u001b[0m\u001b[0;34m,\u001b[0m \u001b[0minitialization_examples\u001b[0m\u001b[0;34m,\u001b[0m \u001b[0mmodel_task\u001b[0m\u001b[0;34m,\u001b[0m \u001b[0mis_function\u001b[0m\u001b[0;34m)\u001b[0m\u001b[0;34m\u001b[0m\u001b[0;34m\u001b[0m\u001b[0m\n",
            "\u001b[0;32m/anaconda/envs/azureml_py36/lib/python3.6/site-packages/interpret_community/dataset/dataset_wrapper.py\u001b[0m in \u001b[0;36mstring_index\u001b[0;34m(self, columns)\u001b[0m\n\u001b[1;32m    319\u001b[0m         \u001b[0;32melse\u001b[0m\u001b[0;34m:\u001b[0m\u001b[0;34m\u001b[0m\u001b[0;34m\u001b[0m\u001b[0m\n\u001b[0;32m--> 320\u001b[0;31m             \u001b[0mtmp_dataset\u001b[0m \u001b[0;34m=\u001b[0m \u001b[0mtmp_dataset\u001b[0m\u001b[0;34m.\u001b[0m\u001b[0miloc\u001b[0m\u001b[0;34m[\u001b[0m\u001b[0;34m:\u001b[0m\u001b[0mSAMPLED_STRING_ROWS\u001b[0m\u001b[0;34m]\u001b[0m\u001b[0;34m\u001b[0m\u001b[0;34m\u001b[0m\u001b[0m\n\u001b[0m\u001b[1;32m    321\u001b[0m         \u001b[0mcategorical_col_names\u001b[0m \u001b[0;34m=\u001b[0m \u001b[0mlist\u001b[0m\u001b[0;34m(\u001b[0m\u001b[0mnp\u001b[0m\u001b[0;34m.\u001b[0m\u001b[0marray\u001b[0m\u001b[0;34m(\u001b[0m\u001b[0mlist\u001b[0m\u001b[0;34m(\u001b[0m\u001b[0mtmp_dataset\u001b[0m\u001b[0;34m)\u001b[0m\u001b[0;34m)\u001b[0m\u001b[0;34m[\u001b[0m\u001b[0;34m(\u001b[0m\u001b[0mtmp_dataset\u001b[0m\u001b[0;34m.\u001b[0m\u001b[0mapplymap\u001b[0m\u001b[0;34m(\u001b[0m\u001b[0mtype\u001b[0m\u001b[0;34m)\u001b[0m \u001b[0;34m==\u001b[0m \u001b[0mstr\u001b[0m\u001b[0;34m)\u001b[0m\u001b[0;34m.\u001b[0m\u001b[0mall\u001b[0m\u001b[0;34m(\u001b[0m\u001b[0;36m0\u001b[0m\u001b[0;34m)\u001b[0m\u001b[0;34m]\u001b[0m\u001b[0;34m)\u001b[0m\u001b[0;34m\u001b[0m\u001b[0;34m\u001b[0m\u001b[0m\n",
            "\u001b[0;31mAttributeError\u001b[0m: 'list' object has no attribute 'iloc'",
            "\nThe above exception was the direct cause of the following exception:\n",
            "\u001b[0;31mValueError\u001b[0m                                Traceback (most recent call last)",
            "\u001b[0;32m<ipython-input-12-356114628a6f>\u001b[0m in \u001b[0;36m<module>\u001b[0;34m\u001b[0m\n\u001b[1;32m      1\u001b[0m \u001b[0;32mfrom\u001b[0m \u001b[0minterpret\u001b[0m\u001b[0;34m.\u001b[0m\u001b[0mext\u001b[0m\u001b[0;34m.\u001b[0m\u001b[0mblackbox\u001b[0m \u001b[0;32mimport\u001b[0m \u001b[0mTabularExplainer\u001b[0m\u001b[0;34m\u001b[0m\u001b[0;34m\u001b[0m\u001b[0m\n\u001b[0;32m----> 2\u001b[0;31m \u001b[0mexplainer\u001b[0m \u001b[0;34m=\u001b[0m \u001b[0mTabularExplainer\u001b[0m\u001b[0;34m(\u001b[0m\u001b[0mmodel\u001b[0m\u001b[0;34m,\u001b[0m \u001b[0mlist\u001b[0m\u001b[0;34m(\u001b[0m\u001b[0mdict\u001b[0m\u001b[0;34m(\u001b[0m\u001b[0mx_train\u001b[0m\u001b[0;34m)\u001b[0m\u001b[0;34m.\u001b[0m\u001b[0mvalues\u001b[0m\u001b[0;34m(\u001b[0m\u001b[0;34m)\u001b[0m\u001b[0;34m)\u001b[0m\u001b[0;34m,\u001b[0m \u001b[0mfeatures\u001b[0m\u001b[0;34m=\u001b[0m\u001b[0mboston\u001b[0m\u001b[0;34m.\u001b[0m\u001b[0mfeature_names\u001b[0m\u001b[0;34m)\u001b[0m\u001b[0;34m\u001b[0m\u001b[0;34m\u001b[0m\u001b[0m\n\u001b[0m\u001b[1;32m      3\u001b[0m \u001b[0;34m\u001b[0m\u001b[0m\n\u001b[1;32m      4\u001b[0m \u001b[0mglobal_explanation\u001b[0m \u001b[0;34m=\u001b[0m \u001b[0mexplainer\u001b[0m\u001b[0;34m.\u001b[0m\u001b[0mexplain_global\u001b[0m\u001b[0;34m(\u001b[0m\u001b[0mx_test\u001b[0m\u001b[0;34m,\u001b[0m \u001b[0mtrue_labels\u001b[0m\u001b[0;34m=\u001b[0m\u001b[0my_test\u001b[0m\u001b[0;34m)\u001b[0m\u001b[0;34m\u001b[0m\u001b[0;34m\u001b[0m\u001b[0m\n",
            "\u001b[0;32m/anaconda/envs/azureml_py36/lib/python3.6/site-packages/interpret_community/tabular_explainer.py\u001b[0m in \u001b[0;36m__init__\u001b[0;34m(self, model, initialization_examples, explain_subset, features, classes, transformations, allow_all_transformations, model_task, use_gpu, **kwargs)\u001b[0m\n\u001b[1;32m    199\u001b[0m         \u001b[0;32mif\u001b[0m \u001b[0;32mnot\u001b[0m \u001b[0mis_valid\u001b[0m\u001b[0;34m:\u001b[0m\u001b[0;34m\u001b[0m\u001b[0;34m\u001b[0m\u001b[0m\n\u001b[1;32m    200\u001b[0m             \u001b[0mself\u001b[0m\u001b[0;34m.\u001b[0m\u001b[0m_logger\u001b[0m\u001b[0;34m.\u001b[0m\u001b[0minfo\u001b[0m\u001b[0;34m(\u001b[0m\u001b[0mInvalidExplainerErr\u001b[0m\u001b[0;34m)\u001b[0m\u001b[0;34m\u001b[0m\u001b[0;34m\u001b[0m\u001b[0m\n\u001b[0;32m--> 201\u001b[0;31m             \u001b[0;32mraise\u001b[0m \u001b[0mValueError\u001b[0m\u001b[0;34m(\u001b[0m\u001b[0mInvalidExplainerErr\u001b[0m\u001b[0;34m)\u001b[0m \u001b[0;32mfrom\u001b[0m \u001b[0mlast_exception\u001b[0m\u001b[0;34m\u001b[0m\u001b[0;34m\u001b[0m\u001b[0m\n\u001b[0m\u001b[1;32m    202\u001b[0m \u001b[0;34m\u001b[0m\u001b[0m\n\u001b[1;32m    203\u001b[0m     \u001b[0;34m@\u001b[0m\u001b[0mtabular_decorator\u001b[0m\u001b[0;34m\u001b[0m\u001b[0;34m\u001b[0m\u001b[0m\n",
            "\u001b[0;31mValueError\u001b[0m: Could not find valid explainer to explain model"
          ]
        }
      ],
      "execution_count": 12,
      "metadata": {
        "jupyter": {
          "source_hidden": false,
          "outputs_hidden": false
        },
        "nteract": {
          "transient": {
            "deleting": false
          }
        },
        "gather": {
          "logged": 1644833399239
        }
      }
    }
  ],
  "metadata": {
    "kernelspec": {
      "name": "python3-azureml",
      "language": "python",
      "display_name": "Python 3.6 - AzureML"
    },
    "language_info": {
      "name": "python",
      "version": "3.6.9",
      "mimetype": "text/x-python",
      "codemirror_mode": {
        "name": "ipython",
        "version": 3
      },
      "pygments_lexer": "ipython3",
      "nbconvert_exporter": "python",
      "file_extension": ".py"
    },
    "kernel_info": {
      "name": "python3-azureml"
    },
    "nteract": {
      "version": "nteract-front-end@1.0.0"
    },
    "microsoft": {
      "host": {
        "AzureML": {
          "notebookHasBeenCompleted": true
        }
      }
    }
  },
  "nbformat": 4,
  "nbformat_minor": 2
}